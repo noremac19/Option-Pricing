{
 "cells": [
  {
   "cell_type": "markdown",
   "id": "dbd66797",
   "metadata": {},
   "source": [
    "# Implied Volatility Calculation"
   ]
  },
  {
   "cell_type": "code",
   "execution_count": 1,
   "id": "fb49ca07",
   "metadata": {},
   "outputs": [],
   "source": [
    "from scipy.stats import norm\n",
    "import numpy as np\n",
    "import pandas as pd\n",
    "import random"
   ]
  },
  {
   "cell_type": "code",
   "execution_count": 2,
   "id": "66b1de47",
   "metadata": {},
   "outputs": [],
   "source": [
    "# Fetch historical stock data\n",
    "google_data = pd.read_excel(\"google_data2.xlsx\")\n",
    "data = google_data[google_data[\"Date\"] >= \"2021-05-06\"]\n",
    "\n",
    "# Use closing prices\n",
    "close_prices = data['Last Price']"
   ]
  },
  {
   "cell_type": "code",
   "execution_count": 3,
   "id": "340d8c18",
   "metadata": {},
   "outputs": [
    {
     "data": {
      "text/html": [
       "<div>\n",
       "<style scoped>\n",
       "    .dataframe tbody tr th:only-of-type {\n",
       "        vertical-align: middle;\n",
       "    }\n",
       "\n",
       "    .dataframe tbody tr th {\n",
       "        vertical-align: top;\n",
       "    }\n",
       "\n",
       "    .dataframe thead th {\n",
       "        text-align: right;\n",
       "    }\n",
       "</style>\n",
       "<table border=\"1\" class=\"dataframe\">\n",
       "  <thead>\n",
       "    <tr style=\"text-align: right;\">\n",
       "      <th></th>\n",
       "      <th>Date</th>\n",
       "      <th>Last Price</th>\n",
       "    </tr>\n",
       "  </thead>\n",
       "  <tbody>\n",
       "    <tr>\n",
       "      <th>518</th>\n",
       "      <td>2021-05-06</td>\n",
       "      <td>116.868</td>\n",
       "    </tr>\n",
       "    <tr>\n",
       "      <th>519</th>\n",
       "      <td>2021-05-07</td>\n",
       "      <td>117.596</td>\n",
       "    </tr>\n",
       "    <tr>\n",
       "      <th>520</th>\n",
       "      <td>2021-05-10</td>\n",
       "      <td>114.588</td>\n",
       "    </tr>\n",
       "    <tr>\n",
       "      <th>521</th>\n",
       "      <td>2021-05-11</td>\n",
       "      <td>113.503</td>\n",
       "    </tr>\n",
       "    <tr>\n",
       "      <th>522</th>\n",
       "      <td>2021-05-12</td>\n",
       "      <td>110.012</td>\n",
       "    </tr>\n",
       "    <tr>\n",
       "      <th>...</th>\n",
       "      <td>...</td>\n",
       "      <td>...</td>\n",
       "    </tr>\n",
       "    <tr>\n",
       "      <th>1269</th>\n",
       "      <td>2024-05-01</td>\n",
       "      <td>163.860</td>\n",
       "    </tr>\n",
       "    <tr>\n",
       "      <th>1270</th>\n",
       "      <td>2024-05-02</td>\n",
       "      <td>166.620</td>\n",
       "    </tr>\n",
       "    <tr>\n",
       "      <th>1271</th>\n",
       "      <td>2024-05-03</td>\n",
       "      <td>167.240</td>\n",
       "    </tr>\n",
       "    <tr>\n",
       "      <th>1272</th>\n",
       "      <td>2024-05-06</td>\n",
       "      <td>167.194</td>\n",
       "    </tr>\n",
       "    <tr>\n",
       "      <th>1273</th>\n",
       "      <td>2024-05-07</td>\n",
       "      <td>171.250</td>\n",
       "    </tr>\n",
       "  </tbody>\n",
       "</table>\n",
       "<p>756 rows × 2 columns</p>\n",
       "</div>"
      ],
      "text/plain": [
       "           Date  Last Price\n",
       "518  2021-05-06     116.868\n",
       "519  2021-05-07     117.596\n",
       "520  2021-05-10     114.588\n",
       "521  2021-05-11     113.503\n",
       "522  2021-05-12     110.012\n",
       "...         ...         ...\n",
       "1269 2024-05-01     163.860\n",
       "1270 2024-05-02     166.620\n",
       "1271 2024-05-03     167.240\n",
       "1272 2024-05-06     167.194\n",
       "1273 2024-05-07     171.250\n",
       "\n",
       "[756 rows x 2 columns]"
      ]
     },
     "execution_count": 3,
     "metadata": {},
     "output_type": "execute_result"
    }
   ],
   "source": [
    "data"
   ]
  },
  {
   "cell_type": "code",
   "execution_count": 4,
   "id": "bd6ebabd",
   "metadata": {},
   "outputs": [],
   "source": [
    "import numpy as np\n",
    "\n",
    "# Calculate daily returns\n",
    "returns = close_prices.pct_change().dropna()\n",
    "\n",
    "# Parameters for EWMA\n",
    "lambda_ = 0.94  # decay factor commonly used in finance\n",
    "\n",
    "# Compute EWMA of squared returns\n",
    "ewma_variance = returns.pow(2).ewm(alpha=1-lambda_).mean()\n",
    "# Calculate the square root of the variance estimate\n",
    "# Multiply by sqrt(252) to annualize the volatility (assuming 252 trading days per year)\n",
    "implied_volatility = np.sqrt(ewma_variance * 252)\n"
   ]
  },
  {
   "cell_type": "code",
   "execution_count": 5,
   "id": "494f7df8",
   "metadata": {},
   "outputs": [
    {
     "data": {
      "image/png": "[encoded data removed]",
      "text/plain": [
       "<Figure size 720x432 with 1 Axes>"
      ]
     },
     "metadata": {
      "needs_background": "light"
     },
     "output_type": "display_data"
    }
   ],
   "source": [
    "import matplotlib.pyplot as plt\n",
    "\n",
    "# Plotting the implied volatility\n",
    "plt.figure(figsize=(10, 6))\n",
    "implied_volatility.plot(title='Implied Volatility for Google')\n",
    "plt.xlabel('Date')\n",
    "plt.ylabel('Implied Volatility')\n",
    "plt.show()\n"
   ]
  },
  {
   "cell_type": "code",
   "execution_count": 6,
   "id": "fd1335a1",
   "metadata": {
    "scrolled": true
   },
   "outputs": [
    {
     "data": {
      "text/plain": [
       "519     0.098886\n",
       "520     0.299547\n",
       "521     0.256811\n",
       "522     0.336364\n",
       "523     0.312034\n",
       "          ...   \n",
       "1269    0.443481\n",
       "1270    0.434931\n",
       "1271    0.421929\n",
       "1272    0.409077\n",
       "1273    0.407678\n",
       "Name: Last Price, Length: 755, dtype: float64"
      ]
     },
     "execution_count": 6,
     "metadata": {},
     "output_type": "execute_result"
    }
   ],
   "source": [
    "implied_volatility"
   ]
  },
  {
   "cell_type": "markdown",
   "id": "54deaec1",
   "metadata": {},
   "source": [
    "# PRICE MODELING"
   ]
  },
  {
   "cell_type": "code",
   "execution_count": 7,
   "id": "535b6146",
   "metadata": {},
   "outputs": [
    {
     "data": {
      "text/plain": [
       "63"
      ]
     },
     "execution_count": 7,
     "metadata": {},
     "output_type": "execute_result"
    }
   ],
   "source": [
    "import numpy as np\n",
    "import pandas as pd\n",
    "\n",
    "# Define the dates\n",
    "start_date = pd.Timestamp('2024-05-07')\n",
    "end_date = pd.Timestamp('2024-08-06')\n",
    "\n",
    "# Generate the range of dates\n",
    "date_range = pd.date_range(start=start_date, end=end_date, freq='B')  # 'B' frequency for business days\n",
    "\n",
    "# Define holidays that might fall within the range\n",
    "holidays = [pd.Timestamp('2024-05-27'),pd.Timestamp('2024-06-19'),pd.Timestamp('2024-07-04')]  # Independence Day\n",
    "\n",
    "# Exclude holidays that fall on business days\n",
    "trading_days = date_range.difference(holidays)\n",
    "\n",
    "# Count the number of trading days\n",
    "num_trading_days = len(trading_days)\n",
    "num_trading_days\n"
   ]
  },
  {
   "cell_type": "code",
   "execution_count": 8,
   "id": "31bb2a29",
   "metadata": {},
   "outputs": [],
   "source": [
    "def gbm(W_prev):\n",
    "    W_t = W_prev + np.random.normal(0, 1)\n",
    "    return W_t\n",
    "\n",
    "def price_modeling(S0, iv, N, T, r, q, day_counts):\n",
    "    t = T / day_counts\n",
    "    n_steps = T  # Number of time steps\n",
    "    dt = t/n_steps  # Time increment\n",
    "    \n",
    "    prices = {}\n",
    "    np.random.seed(42)  # Set seed for reproducibility\n",
    "    \n",
    "    for i in range(N):  # Number of simulations\n",
    "        W_t = 0\n",
    "        daily_prices = [S0]\n",
    "        for j in range(n_steps+1):  # Simulate prices over T days\n",
    "            W_t = gbm(W_t)\n",
    "            S_t = S0 * np.exp((r - q - 0.5 * iv**2)*dt + iv * np.sqrt(dt) * W_t)\n",
    "            daily_prices.append(S_t)\n",
    "        prices[i] = daily_prices\n",
    "    \n",
    "    df_prices = pd.DataFrame.from_dict(prices, orient='index')\n",
    "    \n",
    "    return df_prices\n"
   ]
  },
  {
   "cell_type": "markdown",
   "id": "ba9cfbda",
   "metadata": {},
   "source": [
    "# Asian Option Pricing"
   ]
  },
  {
   "cell_type": "code",
   "execution_count": 15,
   "id": "98122bde",
   "metadata": {},
   "outputs": [],
   "source": [
    "spot = 242\n",
    "strike = 255\n",
    "vol = 0.9\n",
    "T = 30\n",
    "N = 10000\n",
    "r = 0.05\n",
    "q = 0\n",
    "day_counts = 252"
   ]
  },
  {
   "cell_type": "code",
   "execution_count": 16,
   "id": "79c2f973",
   "metadata": {},
   "outputs": [],
   "source": [
    "def euro_option_price(spot, implied_vol, N, T, r, q, day_counts):\n",
    "    sim_prices = price_modeling(spot, implied_vol, N, T, r, q, day_counts)\n",
    "    european_payoff = np.maximum(sim_prices[T] - strike, 0) * np.exp(-r*T/day_counts)\n",
    "    european_price = european_payoff.mean()\n",
    "    return european_price"
   ]
  },
  {
   "cell_type": "code",
   "execution_count": 59,
   "id": "de563396",
   "metadata": {
    "scrolled": false
   },
   "outputs": [],
   "source": [
    "def asian_option_price(spot, implied_vol, N, T, r, q, day_counts):\n",
    "    sim_prices = price_modeling(spot, implied_vol, N, T, r, q, day_counts)\n",
    "    avgs = sim_prices.mean(axis=1)\n",
    "    payoffs = (avgs - strike).clip(lower=0)\n",
    "    expected_payoff = payoffs.mean(axis=0)\n",
    "    option_price = expected_payoff * np.exp(-(r*T/day_counts))\n",
    "    return option_price"
   ]
  },
  {
   "cell_type": "code",
   "execution_count": 60,
   "id": "b89b33b1",
   "metadata": {},
   "outputs": [
    {
     "name": "stdout",
     "output_type": "stream",
     "text": [
      "Price: 6.755750900989563\n"
     ]
    }
   ],
   "source": [
    "asian_call = asian_option_price(spot, vol, N, T, r, q, day_counts)\n",
    "print(\"Price:\", asian_call)"
   ]
  },
  {
   "cell_type": "markdown",
   "id": "05ef2985",
   "metadata": {},
   "source": [
    "# Control Variate"
   ]
  },
  {
   "cell_type": "code",
   "execution_count": 61,
   "id": "4cb00d1d",
   "metadata": {},
   "outputs": [
    {
     "data": {
      "text/plain": [
       "11.967419525404424"
      ]
     },
     "execution_count": 61,
     "metadata": {},
     "output_type": "execute_result"
    }
   ],
   "source": [
    "from scipy.stats import norm\n",
    "t = T / day_counts\n",
    "def black_scholes_call(S0, K, T, r, sigma):\n",
    "    d1 = (np.log(S0 / K) + (r + 0.5 * sigma**2) * T) / (sigma * np.sqrt(T))\n",
    "    d2 = d1 - sigma * np.sqrt(T)\n",
    "    call_price = (S0 * norm.cdf(d1) - K * np.exp(-r * T) * norm.cdf(d2))\n",
    "    return call_price\n",
    "\n",
    "expected_european = black_scholes_call(spot, strike, t, r, vol)\n",
    "expected_european"
   ]
  },
  {
   "cell_type": "code",
   "execution_count": 62,
   "id": "d242297c",
   "metadata": {},
   "outputs": [],
   "source": [
    "def asian_option_price_control_variate(spot, implied_vol, N, T, r, q, day_counts):\n",
    "    sim_prices = price_modeling(spot, implied_vol, N, T, r, q, day_counts)\n",
    "    avgs = sim_prices.mean(axis=1)\n",
    "    asian_payoff = (avgs - strike).clip(lower=0) * np.exp(-(r*T/day_counts))\n",
    "    asian_price = asian_payoff.mean(axis=0)\n",
    "    \n",
    "    \n",
    "    european_payoff = np.maximum(sim_prices[T] - strike, 0) * np.exp(-r*T/day_counts)\n",
    "    european_price = european_payoff.mean()\n",
    "    \n",
    "    expected_european = black_scholes_call(spot, strike, t, r, vol)\n",
    "    \n",
    "    cov = np.cov(asian_payoff, european_payoff)[0, 1]\n",
    "    var = np.var(european_payoff)\n",
    "    c = -cov / var  # control variate coefficient\n",
    "\n",
    "    aop = asian_payoff.mean() + c * (european_payoff.mean() - expected_european)\n",
    "\n",
    "    return asian_price, aop"
   ]
  },
  {
   "cell_type": "code",
   "execution_count": 63,
   "id": "f1522e2e",
   "metadata": {},
   "outputs": [
    {
     "name": "stdout",
     "output_type": "stream",
     "text": [
      "Price: 6.755750900989551 6.77523907659822\n"
     ]
    }
   ],
   "source": [
    "asian_call = asian_option_price_control_variate(spot, vol, N, T, r, q, day_counts)\n",
    "print(\"Price:\", asian_call[0], asian_call[1])"
   ]
  },
  {
   "cell_type": "code",
   "execution_count": null,
   "id": "3e500904",
   "metadata": {},
   "outputs": [],
   "source": [
    "df = price_modeling(spot, vol, N, T, r, q, day_counts)\n",
    "\n",
    "plt.figure(figsize=(10, 6))  # Set the figure size\n",
    "for index, row in df.iterrows():\n",
    "    plt.plot(row, label=f'Simulation {index + 1}')\n",
    "\n",
    "plt.title('Stock Price Simulations Over Time')\n",
    "plt.xlabel('Day')\n",
    "plt.ylabel('Stock Price')\n",
    "plt.show()\n"
   ]
  },
  {
   "cell_type": "code",
   "execution_count": null,
   "id": "ca185c99",
   "metadata": {},
   "outputs": [],
   "source": []
  }
 ],
 "metadata": {
  "kernelspec": {
   "display_name": "base",
   "language": "python",
   "name": "python3"
  },
  "language_info": {
   "codemirror_mode": {
    "name": "ipython",
    "version": 3
   },
   "file_extension": ".py",
   "mimetype": "text/x-python",
   "name": "python",
   "nbconvert_exporter": "python",
   "pygments_lexer": "ipython3",
   "version": "3.9.7"
  }
 },
 "nbformat": 4,
 "nbformat_minor": 5
}
